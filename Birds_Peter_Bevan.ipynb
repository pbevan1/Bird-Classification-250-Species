{
  "nbformat": 4,
  "nbformat_minor": 0,
  "metadata": {
    "accelerator": "GPU",
    "colab": {
      "name": "Birds_Peter_Bevan.ipynb",
      "provenance": [],
      "collapsed_sections": [],
      "toc_visible": true
    },
    "kernelspec": {
      "display_name": "Python 3",
      "name": "python3"
    }
  },
  "cells": [
    {
      "cell_type": "markdown",
      "metadata": {
        "id": "uK4w51BHuVH-"
      },
      "source": [
        "**This project aims to train an accurate classifier for 250 species of birds, based on the image dataset found here: https://www.kaggle.com/gpiosenka/100-bird-species. Transfer Learning was implemented using EfficientNetB7, and Keras tuner was utilised for hyperparameter selection**\r\n",
        "\r\n",
        "**A classification accuracy of 96.16% was achieved.**"
      ]
    },
    {
      "cell_type": "markdown",
      "metadata": {
        "id": "HaeEpUbSCAmk"
      },
      "source": [
        "# Prerequisites"
      ]
    },
    {
      "cell_type": "code",
      "metadata": {
        "colab": {
          "base_uri": "https://localhost:8080/"
        },
        "id": "8k3wK-o0xokS",
        "outputId": "0174de72-47e0-4300-bbe9-5f55f6e564a3"
      },
      "source": [
        "#keras tuner installed for use later\r\n",
        "!pip install keras-tuner"
      ],
      "execution_count": null,
      "outputs": [
        {
          "output_type": "stream",
          "text": [
            "Collecting keras-tuner\n",
            "\u001b[?25l  Downloading https://files.pythonhosted.org/packages/20/ec/1ef246787174b1e2bb591c95f29d3c1310070cad877824f907faba3dade9/keras-tuner-1.0.2.tar.gz (62kB)\n",
            "\r\u001b[K     |█████▏                          | 10kB 23.5MB/s eta 0:00:01\r\u001b[K     |██████████▍                     | 20kB 31.0MB/s eta 0:00:01\r\u001b[K     |███████████████▋                | 30kB 23.9MB/s eta 0:00:01\r\u001b[K     |████████████████████▉           | 40kB 21.2MB/s eta 0:00:01\r\u001b[K     |██████████████████████████      | 51kB 21.6MB/s eta 0:00:01\r\u001b[K     |███████████████████████████████▎| 61kB 16.5MB/s eta 0:00:01\r\u001b[K     |████████████████████████████████| 71kB 8.2MB/s \n",
            "\u001b[?25hRequirement already satisfied: packaging in /usr/local/lib/python3.7/dist-packages (from keras-tuner) (20.9)\n",
            "Requirement already satisfied: future in /usr/local/lib/python3.7/dist-packages (from keras-tuner) (0.16.0)\n",
            "Requirement already satisfied: numpy in /usr/local/lib/python3.7/dist-packages (from keras-tuner) (1.19.5)\n",
            "Requirement already satisfied: tabulate in /usr/local/lib/python3.7/dist-packages (from keras-tuner) (0.8.8)\n",
            "Collecting terminaltables\n",
            "  Downloading https://files.pythonhosted.org/packages/9b/c4/4a21174f32f8a7e1104798c445dacdc1d4df86f2f26722767034e4de4bff/terminaltables-3.1.0.tar.gz\n",
            "Collecting colorama\n",
            "  Downloading https://files.pythonhosted.org/packages/44/98/5b86278fbbf250d239ae0ecb724f8572af1c91f4a11edf4d36a206189440/colorama-0.4.4-py2.py3-none-any.whl\n",
            "Requirement already satisfied: tqdm in /usr/local/lib/python3.7/dist-packages (from keras-tuner) (4.41.1)\n",
            "Requirement already satisfied: requests in /usr/local/lib/python3.7/dist-packages (from keras-tuner) (2.23.0)\n",
            "Requirement already satisfied: scipy in /usr/local/lib/python3.7/dist-packages (from keras-tuner) (1.4.1)\n",
            "Requirement already satisfied: scikit-learn in /usr/local/lib/python3.7/dist-packages (from keras-tuner) (0.22.2.post1)\n",
            "Requirement already satisfied: pyparsing>=2.0.2 in /usr/local/lib/python3.7/dist-packages (from packaging->keras-tuner) (2.4.7)\n",
            "Requirement already satisfied: chardet<4,>=3.0.2 in /usr/local/lib/python3.7/dist-packages (from requests->keras-tuner) (3.0.4)\n",
            "Requirement already satisfied: idna<3,>=2.5 in /usr/local/lib/python3.7/dist-packages (from requests->keras-tuner) (2.10)\n",
            "Requirement already satisfied: certifi>=2017.4.17 in /usr/local/lib/python3.7/dist-packages (from requests->keras-tuner) (2020.12.5)\n",
            "Requirement already satisfied: urllib3!=1.25.0,!=1.25.1,<1.26,>=1.21.1 in /usr/local/lib/python3.7/dist-packages (from requests->keras-tuner) (1.24.3)\n",
            "Requirement already satisfied: joblib>=0.11 in /usr/local/lib/python3.7/dist-packages (from scikit-learn->keras-tuner) (1.0.1)\n",
            "Building wheels for collected packages: keras-tuner, terminaltables\n",
            "  Building wheel for keras-tuner (setup.py) ... \u001b[?25l\u001b[?25hdone\n",
            "  Created wheel for keras-tuner: filename=keras_tuner-1.0.2-cp37-none-any.whl size=78938 sha256=04861aa7fe7edf904280e5b276d5120a46a493ab6b6d5c05b55ec7c0b52760e3\n",
            "  Stored in directory: /root/.cache/pip/wheels/bb/a1/8a/7c3de0efb3707a1701b36ebbfdbc4e67aedf6d4943a1f463d6\n",
            "  Building wheel for terminaltables (setup.py) ... \u001b[?25l\u001b[?25hdone\n",
            "  Created wheel for terminaltables: filename=terminaltables-3.1.0-cp37-none-any.whl size=15356 sha256=943704676cc8e1ea47b9f3bcfc5a997a93fc934940ff342aa1585140de7b6ee1\n",
            "  Stored in directory: /root/.cache/pip/wheels/30/6b/50/6c75775b681fb36cdfac7f19799888ef9d8813aff9e379663e\n",
            "Successfully built keras-tuner terminaltables\n",
            "Installing collected packages: terminaltables, colorama, keras-tuner\n",
            "Successfully installed colorama-0.4.4 keras-tuner-1.0.2 terminaltables-3.1.0\n"
          ],
          "name": "stdout"
        }
      ]
    },
    {
      "cell_type": "code",
      "metadata": {
        "id": "E__1WxC7bCmj"
      },
      "source": [
        "#importing neccessary libraries\r\n",
        "\r\n",
        "#general\r\n",
        "import zipfile\r\n",
        "import sys\r\n",
        "import os\r\n",
        "import numpy as np\r\n",
        "import tensorflow as tf\r\n",
        "import pandas as pd\r\n",
        "import numpy as np\r\n",
        "import matplotlib.pyplot as plt\r\n",
        "\r\n",
        "#keras\r\n",
        "from tensorflow.keras.models import Sequential\r\n",
        "from tensorflow.keras.layers import Dense\r\n",
        "from tensorflow.keras.layers import BatchNormalization\r\n",
        "from tensorflow.keras.layers import Activation\r\n",
        "from tensorflow.keras.layers import Dropout\r\n",
        "from tensorflow.keras.layers import Flatten\r\n",
        "from tensorflow.keras.layers import MaxPool2D\r\n",
        "from tensorflow.keras.layers import Conv2D\r\n",
        "from tensorflow.keras.preprocessing.image import ImageDataGenerator\r\n",
        "from tensorflow.keras.callbacks import EarlyStopping\r\n",
        "from tensorflow.keras.callbacks import ModelCheckpoint\r\n",
        "from keras.preprocessing.image import load_img\r\n",
        "from keras.preprocessing.image import img_to_array\r\n",
        "from tensorflow.keras.models import load_model\r\n",
        "\r\n",
        "#keras tuner\r\n",
        "from kerastuner.tuners import RandomSearch\r\n",
        "from kerastuner.tuners import Hyperband\r\n",
        "from kerastuner.engine.hyperparameters import HyperParameters\r\n",
        "\r\n",
        "#sklearn\r\n",
        "from sklearn.metrics import confusion_matrix\r\n",
        "from sklearn.metrics import precision_score, accuracy_score, recall_score\r\n",
        "import seaborn as sns\r\n",
        "\r\n",
        "#Setting random seeds for reproducibility\r\n",
        "import random\r\n",
        "random.seed(42)\r\n",
        "np.random.seed(42)"
      ],
      "execution_count": null,
      "outputs": []
    },
    {
      "cell_type": "markdown",
      "metadata": {
        "id": "tkWDXbmwwV7X"
      },
      "source": [
        "**The bird dataset can be downloaded quickly from my google drive if using google colab (transfer is between within google so very fast)**"
      ]
    },
    {
      "cell_type": "code",
      "metadata": {
        "colab": {
          "base_uri": "https://localhost:8080/"
        },
        "id": "1SatzQsIlKEe",
        "outputId": "c95de79b-87e2-409f-836d-5a0f5e29c1be"
      },
      "source": [
        "# bird dataset can be downloaded from here\r\n",
        "#!pip install gdown # Execute this if you don't have gdown\r\n",
        "!gdown --id 10IsZlWZIaUehKOIr0g_RVg7S8cEsxmqR"
      ],
      "execution_count": null,
      "outputs": [
        {
          "output_type": "stream",
          "text": [
            "Downloading...\n",
            "From: https://drive.google.com/uc?id=10IsZlWZIaUehKOIr0g_RVg7S8cEsxmqR\n",
            "To: /content/birds.zip\n",
            "1.66GB [00:10, 156MB/s]\n"
          ],
          "name": "stdout"
        }
      ]
    },
    {
      "cell_type": "markdown",
      "metadata": {
        "id": "ByHu9wllloFF"
      },
      "source": [
        "**Alternatively use this link if not using google colab, but be warned it may be much slower**"
      ]
    },
    {
      "cell_type": "code",
      "metadata": {
        "id": "GFe5VfCEljSf"
      },
      "source": [
        "# alternative if not using google colab (uncomment below as needed)\r\n",
        "# !curl -O http://homepages.cs.ncl.ac.uk/stephen.mcgough/Teaching/birds.zip"
      ],
      "execution_count": null,
      "outputs": []
    },
    {
      "cell_type": "markdown",
      "metadata": {
        "id": "gPOqNkBBuO1u"
      },
      "source": [
        "# Image Processing"
      ]
    },
    {
      "cell_type": "markdown",
      "metadata": {
        "id": "ES4ISUvfzXMd"
      },
      "source": [
        "**bird images extracted from zipped folder into working directory**"
      ]
    },
    {
      "cell_type": "code",
      "metadata": {
        "colab": {
          "base_uri": "https://localhost:8080/"
        },
        "id": "dcR2KM1kag4h",
        "outputId": "71f1e50c-d98b-41e5-e7c1-dbd4f9f7e2a3"
      },
      "source": [
        "#extracting zipped image files into directory\r\n",
        "## Unzipping birds.zip\r\n",
        "with zipfile.ZipFile('birds.zip', 'r') as zip_ref:\r\n",
        "    zip_ref.extractall()\r\n",
        "print('birds dataset extracted to working directory as \"test, train and valid\"\\n')"
      ],
      "execution_count": null,
      "outputs": [
        {
          "output_type": "stream",
          "text": [
            "birds dataset extracted to working directory as \"test, train and valid\"\n",
            "\n"
          ],
          "name": "stdout"
        }
      ]
    },
    {
      "cell_type": "markdown",
      "metadata": {
        "id": "klkgCH0zzon3"
      },
      "source": [
        "**Using Keras' ImageDataGenerator to load images from directory in batches without overloading RAM.**"
      ]
    },
    {
      "cell_type": "code",
      "metadata": {
        "id": "iOufpQgeqHy4"
      },
      "source": [
        "# create a data generator\r\n",
        "datagen = ImageDataGenerator(rescale=1/255)"
      ],
      "execution_count": null,
      "outputs": []
    },
    {
      "cell_type": "code",
      "metadata": {
        "colab": {
          "base_uri": "https://localhost:8080/"
        },
        "id": "2E1GJOFRnWAs",
        "outputId": "e6b7208b-e28f-45c0-ece1-bf808dcea427"
      },
      "source": [
        "# training dataset\r\n",
        "train_it = datagen.flow_from_directory('./train/', target_size=(224,224), color_mode='rgb', class_mode='sparse',batch_size=128)\r\n",
        "# validation dataset\r\n",
        "val_it = datagen.flow_from_directory('./valid/', target_size=(224,224), color_mode='rgb', class_mode='sparse',batch_size=128)\r\n",
        "# test dataset\r\n",
        "test_it = datagen.flow_from_directory('./test/', target_size=(224,224), color_mode='rgb', class_mode='sparse',batch_size=128, shuffle=False)"
      ],
      "execution_count": null,
      "outputs": [
        {
          "output_type": "stream",
          "text": [
            "Found 35215 images belonging to 250 classes.\n",
            "Found 1250 images belonging to 250 classes.\n",
            "Found 1250 images belonging to 250 classes.\n"
          ],
          "name": "stdout"
        }
      ]
    },
    {
      "cell_type": "markdown",
      "metadata": {
        "id": "__9BhWys1RLk"
      },
      "source": [
        "# Transfer Learning"
      ]
    },
    {
      "cell_type": "markdown",
      "metadata": {
        "id": "cygfPIZ90ruW"
      },
      "source": [
        "**Importing EfficientNet and freezing the layers**"
      ]
    },
    {
      "cell_type": "code",
      "metadata": {
        "colab": {
          "base_uri": "https://localhost:8080/"
        },
        "id": "ihGPIC7D_C1U",
        "outputId": "b88ad3aa-db7d-4a55-9bf8-cb6d5946b1c7"
      },
      "source": [
        "!pip install -U efficientnet"
      ],
      "execution_count": null,
      "outputs": [
        {
          "output_type": "stream",
          "text": [
            "Collecting efficientnet\n",
            "  Downloading https://files.pythonhosted.org/packages/53/97/84f88e581d6ac86dcf1ab347c497c4c568c38784e3a2bd659b96912ab793/efficientnet-1.1.1-py3-none-any.whl\n",
            "Collecting keras-applications<=1.0.8,>=1.0.7\n",
            "\u001b[?25l  Downloading https://files.pythonhosted.org/packages/71/e3/19762fdfc62877ae9102edf6342d71b28fbfd9dea3d2f96a882ce099b03f/Keras_Applications-1.0.8-py3-none-any.whl (50kB)\n",
            "\u001b[K     |████████████████████████████████| 51kB 8.7MB/s \n",
            "\u001b[?25hRequirement already satisfied, skipping upgrade: scikit-image in /usr/local/lib/python3.7/dist-packages (from efficientnet) (0.16.2)\n",
            "Requirement already satisfied, skipping upgrade: numpy>=1.9.1 in /usr/local/lib/python3.7/dist-packages (from keras-applications<=1.0.8,>=1.0.7->efficientnet) (1.19.5)\n",
            "Requirement already satisfied, skipping upgrade: h5py in /usr/local/lib/python3.7/dist-packages (from keras-applications<=1.0.8,>=1.0.7->efficientnet) (2.10.0)\n",
            "Requirement already satisfied, skipping upgrade: PyWavelets>=0.4.0 in /usr/local/lib/python3.7/dist-packages (from scikit-image->efficientnet) (1.1.1)\n",
            "Requirement already satisfied, skipping upgrade: imageio>=2.3.0 in /usr/local/lib/python3.7/dist-packages (from scikit-image->efficientnet) (2.4.1)\n",
            "Requirement already satisfied, skipping upgrade: matplotlib!=3.0.0,>=2.0.0 in /usr/local/lib/python3.7/dist-packages (from scikit-image->efficientnet) (3.2.2)\n",
            "Requirement already satisfied, skipping upgrade: networkx>=2.0 in /usr/local/lib/python3.7/dist-packages (from scikit-image->efficientnet) (2.5)\n",
            "Requirement already satisfied, skipping upgrade: pillow>=4.3.0 in /usr/local/lib/python3.7/dist-packages (from scikit-image->efficientnet) (7.0.0)\n",
            "Requirement already satisfied, skipping upgrade: scipy>=0.19.0 in /usr/local/lib/python3.7/dist-packages (from scikit-image->efficientnet) (1.4.1)\n",
            "Requirement already satisfied, skipping upgrade: six in /usr/local/lib/python3.7/dist-packages (from h5py->keras-applications<=1.0.8,>=1.0.7->efficientnet) (1.15.0)\n",
            "Requirement already satisfied, skipping upgrade: python-dateutil>=2.1 in /usr/local/lib/python3.7/dist-packages (from matplotlib!=3.0.0,>=2.0.0->scikit-image->efficientnet) (2.8.1)\n",
            "Requirement already satisfied, skipping upgrade: pyparsing!=2.0.4,!=2.1.2,!=2.1.6,>=2.0.1 in /usr/local/lib/python3.7/dist-packages (from matplotlib!=3.0.0,>=2.0.0->scikit-image->efficientnet) (2.4.7)\n",
            "Requirement already satisfied, skipping upgrade: cycler>=0.10 in /usr/local/lib/python3.7/dist-packages (from matplotlib!=3.0.0,>=2.0.0->scikit-image->efficientnet) (0.10.0)\n",
            "Requirement already satisfied, skipping upgrade: kiwisolver>=1.0.1 in /usr/local/lib/python3.7/dist-packages (from matplotlib!=3.0.0,>=2.0.0->scikit-image->efficientnet) (1.3.1)\n",
            "Requirement already satisfied, skipping upgrade: decorator>=4.3.0 in /usr/local/lib/python3.7/dist-packages (from networkx>=2.0->scikit-image->efficientnet) (4.4.2)\n",
            "Installing collected packages: keras-applications, efficientnet\n",
            "Successfully installed efficientnet-1.1.1 keras-applications-1.0.8\n"
          ],
          "name": "stdout"
        }
      ]
    },
    {
      "cell_type": "markdown",
      "metadata": {
        "id": "8LVH6wsKuVnp"
      },
      "source": [
        "**Using EfficientNetB7**"
      ]
    },
    {
      "cell_type": "code",
      "metadata": {
        "id": "wlnUuea8xCju",
        "colab": {
          "base_uri": "https://localhost:8080/"
        },
        "outputId": "b207bc92-1d33-41ef-e2a0-accb4825c057"
      },
      "source": [
        "# Model Initialization\r\n",
        "\r\n",
        "import efficientnet.keras as efn\r\n",
        "efnb7_imagenet = efn.EfficientNetB7(input_shape=(224,224,3),weights='imagenet',include_top=False)\r\n",
        "#freezing layers\r\n",
        "for layer in efnb7_imagenet.layers:\r\n",
        "    layer.trainable=False"
      ],
      "execution_count": null,
      "outputs": [
        {
          "output_type": "stream",
          "text": [
            "Downloading data from https://github.com/Callidior/keras-applications/releases/download/efficientnet/efficientnet-b7_weights_tf_dim_ordering_tf_kernels_autoaugment_notop.h5\n",
            "258441216/258434480 [==============================] - 3s 0us/step\n"
          ],
          "name": "stdout"
        }
      ]
    },
    {
      "cell_type": "markdown",
      "metadata": {
        "id": "prcPo30DZlzT"
      },
      "source": [
        "# Tuning"
      ]
    },
    {
      "cell_type": "markdown",
      "metadata": {
        "id": "yb9SLvUC1FOy"
      },
      "source": [
        "**Keras tuner was used to tune the final layers after the EfficientNetB7. The number of layers, number of units and learning rate were tuned.**"
      ]
    },
    {
      "cell_type": "code",
      "metadata": {
        "id": "Jj4IRwqjv8lX"
      },
      "source": [
        "# defining function for building model with using ResNet101V2 for transfer learning\r\n",
        "# and setting up for keras tuner to find the best number of layers, units per\r\n",
        "# layer and learning rate.\r\n",
        "\r\n",
        "def build_model(hp):\r\n",
        "\r\n",
        "  model=Sequential()\r\n",
        "\r\n",
        "  model.add(efnb7_imagenet) #transfer learning (frozen)\r\n",
        "  model.add(Dropout(0.5))\r\n",
        "  model.add(Flatten())\r\n",
        "  model.add(BatchNormalization())\r\n",
        "\r\n",
        "  for i in range(hp.Int('n_layers', 1, 3)):\r\n",
        "    model.add(Dense(hp.Int(f'{i}_units', 512, 2048, 512),kernel_initializer='he_uniform'))\r\n",
        "    model.add(BatchNormalization())\r\n",
        "    model.add(Activation('relu'))\r\n",
        "    model.add(Dropout(0.5))\r\n",
        "\r\n",
        "  model.add(Dense(250,activation='softmax'))\r\n",
        "\r\n",
        "  model.compile(loss='sparse_categorical_crossentropy',metrics=['accuracy'],\r\n",
        "                optimizer=tf.keras.optimizers.Adam(hp.Float('learning_rate',\r\n",
        "                min_value=1e-4,max_value=1e-2,sampling='LOG',default=1e-3)))\r\n",
        "  \r\n",
        "  print(model.summary())\r\n",
        "  return model"
      ],
      "execution_count": null,
      "outputs": []
    },
    {
      "cell_type": "markdown",
      "metadata": {
        "id": "dYp-O_Ez3ZO2"
      },
      "source": [
        "**A random search was carried out accross the specified grid of posibilities to find the best set of hyperparameters**"
      ]
    },
    {
      "cell_type": "code",
      "metadata": {
        "colab": {
          "base_uri": "https://localhost:8080/"
        },
        "id": "NN0TnZ1U96hf",
        "outputId": "2a5213f0-71b4-43c4-f85b-c04322b61910"
      },
      "source": [
        "# setting up tuner object and how long to tune for\r\n",
        "seed = 1 # seed to improve reproducability\r\n",
        "executions_per_trial = 1\r\n",
        "max_trials = 7\r\n",
        "tuner = RandomSearch(build_model, max_trials = max_trials , objective = 'val_accuracy', seed=seed, executions_per_trial = executions_per_trial, directory = '/content/drive/MyDrive/LOG_DIR_efn')"
      ],
      "execution_count": null,
      "outputs": [
        {
          "output_type": "stream",
          "text": [
            "Model: \"sequential\"\n",
            "_________________________________________________________________\n",
            "Layer (type)                 Output Shape              Param #   \n",
            "=================================================================\n",
            "efficientnet-b7 (Functional) (None, 7, 7, 2560)        64097680  \n",
            "_________________________________________________________________\n",
            "dropout (Dropout)            (None, 7, 7, 2560)        0         \n",
            "_________________________________________________________________\n",
            "flatten (Flatten)            (None, 125440)            0         \n",
            "_________________________________________________________________\n",
            "batch_normalization (BatchNo (None, 125440)            501760    \n",
            "_________________________________________________________________\n",
            "dense (Dense)                (None, 512)               64225792  \n",
            "_________________________________________________________________\n",
            "batch_normalization_1 (Batch (None, 512)               2048      \n",
            "_________________________________________________________________\n",
            "activation (Activation)      (None, 512)               0         \n",
            "_________________________________________________________________\n",
            "dropout_1 (Dropout)          (None, 512)               0         \n",
            "_________________________________________________________________\n",
            "dense_1 (Dense)              (None, 250)               128250    \n",
            "=================================================================\n",
            "Total params: 128,955,530\n",
            "Trainable params: 64,605,946\n",
            "Non-trainable params: 64,349,584\n",
            "_________________________________________________________________\n",
            "None\n"
          ],
          "name": "stdout"
        }
      ]
    },
    {
      "cell_type": "markdown",
      "metadata": {
        "id": "BbzMaAkTund4"
      },
      "source": [
        "**Checking out the search space to make sure the search is feasible**"
      ]
    },
    {
      "cell_type": "code",
      "metadata": {
        "colab": {
          "base_uri": "https://localhost:8080/"
        },
        "id": "TpNwrWzy6eNY",
        "outputId": "481badec-c393-4690-ca81-b6316892ca20"
      },
      "source": [
        "# viewing the scope of the search, gives an indication of if it's going to take too long\r\n",
        "tuner.search_space_summary()"
      ],
      "execution_count": null,
      "outputs": [
        {
          "output_type": "stream",
          "text": [
            "Search space summary\n",
            "Default search space size: 3\n",
            "n_layers (Int)\n",
            "{'default': None, 'conditions': [], 'min_value': 1, 'max_value': 3, 'step': 1, 'sampling': None}\n",
            "0_units (Int)\n",
            "{'default': None, 'conditions': [], 'min_value': 512, 'max_value': 2048, 'step': 512, 'sampling': None}\n",
            "learning_rate (Float)\n",
            "{'default': 0.001, 'conditions': [], 'min_value': 0.0001, 'max_value': 0.01, 'step': None, 'sampling': 'log'}\n"
          ],
          "name": "stdout"
        }
      ]
    },
    {
      "cell_type": "markdown",
      "metadata": {
        "id": "LQ53U8KBuy2C"
      },
      "source": [
        "**Conducting the search using 3 epochs and a batch size of 256 to speed it up.**"
      ]
    },
    {
      "cell_type": "code",
      "metadata": {
        "colab": {
          "base_uri": "https://localhost:8080/"
        },
        "id": "2AUlh3ur6chE",
        "outputId": "8df2630c-0978-4837-8a4f-eb42af72783a"
      },
      "source": [
        "# executing search using validation data to evaluate\r\n",
        "tuner.search(train_it, epochs=3, batch_size=256, validation_data=val_it)"
      ],
      "execution_count": null,
      "outputs": [
        {
          "output_type": "stream",
          "text": [
            "Trial 7 Complete [00h 24m 07s]\n",
            "val_accuracy: 0.7943999767303467\n",
            "\n",
            "Best val_accuracy So Far: 0.9232000112533569\n",
            "Total elapsed time: 02h 40m 57s\n",
            "INFO:tensorflow:Oracle triggered exit\n"
          ],
          "name": "stdout"
        }
      ]
    },
    {
      "cell_type": "markdown",
      "metadata": {
        "id": "7OnmDG-IvHYr"
      },
      "source": [
        "**Evaluating the results. Chose to go with the second best model in this list. This model was within 0.0015 of the top model; given that it has extra depth and during tuning looked like it would have continued improving more than the top model, I took a punt on the fact that over a longer training it would reach higher accuracy.**"
      ]
    },
    {
      "cell_type": "code",
      "metadata": {
        "id": "NBEU8eapz72c",
        "colab": {
          "base_uri": "https://localhost:8080/"
        },
        "outputId": "ec0043d1-bb65-455e-9bfc-35920d48376b"
      },
      "source": [
        "# viewing the results\r\n",
        "print(tuner.results_summary())"
      ],
      "execution_count": null,
      "outputs": [
        {
          "output_type": "stream",
          "text": [
            "Results summary\n",
            "Results in /content/drive/MyDrive/LOG_DIR_efn/untitled_project\n",
            "Showing 10 best trials\n",
            "Objective(name='val_accuracy', direction='max')\n",
            "Trial summary\n",
            "Hyperparameters:\n",
            "n_layers: 1\n",
            "0_units: 2048\n",
            "learning_rate: 0.0002991777241598977\n",
            "Score: 0.9232000112533569\n",
            "Trial summary\n",
            "Hyperparameters:\n",
            "n_layers: 1\n",
            "0_units: 2048\n",
            "learning_rate: 0.0005285006792644589\n",
            "1_units: 1536\n",
            "Score: 0.9215999841690063\n",
            "Trial summary\n",
            "Hyperparameters:\n",
            "n_layers: 1\n",
            "0_units: 1536\n",
            "learning_rate: 0.006475590128522282\n",
            "1_units: 512\n",
            "Score: 0.9031999707221985\n",
            "Trial summary\n",
            "Hyperparameters:\n",
            "n_layers: 1\n",
            "0_units: 1536\n",
            "learning_rate: 0.003860825451272157\n",
            "Score: 0.8984000086784363\n",
            "Trial summary\n",
            "Hyperparameters:\n",
            "n_layers: 2\n",
            "0_units: 1024\n",
            "learning_rate: 0.0008894905887153519\n",
            "1_units: 1024\n",
            "Score: 0.8944000005722046\n",
            "Trial summary\n",
            "Hyperparameters:\n",
            "n_layers: 2\n",
            "0_units: 1024\n",
            "learning_rate: 0.0008433633337952192\n",
            "1_units: 512\n",
            "Score: 0.8863999843597412\n",
            "Trial summary\n",
            "Hyperparameters:\n",
            "n_layers: 3\n",
            "0_units: 2048\n",
            "learning_rate: 0.0026588018706229753\n",
            "1_units: 1024\n",
            "2_units: 512\n",
            "Score: 0.7943999767303467\n",
            "None\n"
          ],
          "name": "stdout"
        }
      ]
    },
    {
      "cell_type": "markdown",
      "metadata": {
        "id": "rgC7Wb9MwVDR"
      },
      "source": [
        "**Below blocks used to reload the tuner if needed**"
      ]
    },
    {
      "cell_type": "code",
      "metadata": {
        "id": "kBbwsPdhQ461"
      },
      "source": [
        "# #reloading the tuner from file\r\n",
        "# tuner = RandomSearch(build_model, max_trials = max_trials , objective = 'val_accuracy', seed=seed, executions_per_trial = executions_per_trial, directory = './LOG_DIR_efn')\r\n",
        "# tuner.reload()"
      ],
      "execution_count": null,
      "outputs": []
    },
    {
      "cell_type": "code",
      "metadata": {
        "colab": {
          "base_uri": "https://localhost:8080/"
        },
        "id": "dKpzzyRKewKC",
        "outputId": "bd0e861f-708a-4294-d372-68591a230fc3"
      },
      "source": [
        "# previously run tuner ('LOG_DIR) can be dowloaded from here\r\n",
        "#!pip install gdown # Execute this if you don't have gdown\r\n",
        "# !gdown --id 1Jr-wBG9Av9eDaiVZ-jlJkanTXVPTJKlW\r\n",
        "# print('tuner downloaded to environment, run cell beow like usual and it itll show the best parameters')"
      ],
      "execution_count": null,
      "outputs": [
        {
          "output_type": "stream",
          "text": [
            "Permission denied: https://drive.google.com/uc?id=1Jr-wBG9Av9eDaiVZ-jlJkanTXVPTJKlW\n",
            "Maybe you need to change permission over 'Anyone with the link'?\n",
            "tuner downloaded to environment, run cell beow like usual and it itll show the best parameters\n"
          ],
          "name": "stdout"
        }
      ]
    },
    {
      "cell_type": "markdown",
      "metadata": {
        "id": "iSmyqDhRZt5Q"
      },
      "source": [
        "# Defining final model"
      ]
    },
    {
      "cell_type": "markdown",
      "metadata": {
        "id": "NfDwD36xwdLS"
      },
      "source": [
        "**The model chosen above using keras tuner is defined as `model_tuned` ready for full training**"
      ]
    },
    {
      "cell_type": "code",
      "metadata": {
        "colab": {
          "base_uri": "https://localhost:8080/"
        },
        "id": "glF5jrt1SQVP",
        "outputId": "445f5645-9193-4ad3-9f37-6c5d9fe47d10"
      },
      "source": [
        "#defining the hyperparameters chosen from tuning\r\n",
        "tuned_lr = 0.0005285006792644589\r\n",
        "tuned_layer_1 = 2048\r\n",
        "tuned_layer_2 = 1536\r\n",
        "\r\n",
        "model_tuned=Sequential()\r\n",
        "model_tuned.add(efnb7_imagenet)\r\n",
        "model_tuned.add(Dropout(0.5))\r\n",
        "model_tuned.add(Flatten())\r\n",
        "model_tuned.add(BatchNormalization())\r\n",
        "\r\n",
        "model_tuned.add(Dense(tuned_layer_1,kernel_initializer='he_uniform'))\r\n",
        "model_tuned.add(BatchNormalization())\r\n",
        "model_tuned.add(Activation('relu'))\r\n",
        "model_tuned.add(Dropout(0.5))\r\n",
        "\r\n",
        "model_tuned.add(Dense(tuned_layer_2,kernel_initializer='he_uniform'))\r\n",
        "model_tuned.add(BatchNormalization())\r\n",
        "model_tuned.add(Activation('relu'))\r\n",
        "model_tuned.add(Dropout(0.5))\r\n",
        "\r\n",
        "model_tuned.add(Dense(250,activation='softmax'))\r\n",
        "model_tuned.compile(loss='sparse_categorical_crossentropy',metrics=['accuracy'], optimizer=tf.keras.optimizers.Adam(tuned_lr))\r\n",
        "\r\n",
        "print(model_tuned.summary())"
      ],
      "execution_count": null,
      "outputs": [
        {
          "output_type": "stream",
          "text": [
            "Model: \"sequential\"\n",
            "_________________________________________________________________\n",
            "Layer (type)                 Output Shape              Param #   \n",
            "=================================================================\n",
            "efficientnet-b7 (Functional) (None, 7, 7, 2560)        64097680  \n",
            "_________________________________________________________________\n",
            "dropout (Dropout)            (None, 7, 7, 2560)        0         \n",
            "_________________________________________________________________\n",
            "flatten (Flatten)            (None, 125440)            0         \n",
            "_________________________________________________________________\n",
            "batch_normalization (BatchNo (None, 125440)            501760    \n",
            "_________________________________________________________________\n",
            "dense (Dense)                (None, 2048)              256903168 \n",
            "_________________________________________________________________\n",
            "batch_normalization_1 (Batch (None, 2048)              8192      \n",
            "_________________________________________________________________\n",
            "activation (Activation)      (None, 2048)              0         \n",
            "_________________________________________________________________\n",
            "dropout_1 (Dropout)          (None, 2048)              0         \n",
            "_________________________________________________________________\n",
            "dense_1 (Dense)              (None, 1536)              3147264   \n",
            "_________________________________________________________________\n",
            "batch_normalization_2 (Batch (None, 1536)              6144      \n",
            "_________________________________________________________________\n",
            "activation_1 (Activation)    (None, 1536)              0         \n",
            "_________________________________________________________________\n",
            "dropout_2 (Dropout)          (None, 1536)              0         \n",
            "_________________________________________________________________\n",
            "dense_2 (Dense)              (None, 250)               384250    \n",
            "=================================================================\n",
            "Total params: 325,048,458\n",
            "Trainable params: 260,692,730\n",
            "Non-trainable params: 64,355,728\n",
            "_________________________________________________________________\n",
            "None\n"
          ],
          "name": "stdout"
        }
      ]
    },
    {
      "cell_type": "markdown",
      "metadata": {
        "id": "GCDnLbIBrwy0"
      },
      "source": [
        "# Training"
      ]
    },
    {
      "cell_type": "markdown",
      "metadata": {
        "id": "nc1YUmh6wyVU"
      },
      "source": [
        "**The tuned model is trained with early stopping, allowing the best model to be saved automatically. Early stopping is quite useful for this model as from previous experiments it was clear the accuracy oscillates about the optimal value after a certain number of epochs.**"
      ]
    },
    {
      "cell_type": "code",
      "metadata": {
        "colab": {
          "base_uri": "https://localhost:8080/"
        },
        "id": "a9-i7G9DS5_2",
        "outputId": "30c032d6-38b1-4243-92a1-b863782d0405"
      },
      "source": [
        "es = EarlyStopping(monitor='val_loss', mode='min', verbose=1)\r\n",
        "mc = ModelCheckpoint('/content/drive/MyDrive/best_model_2.h5', monitor='val_accuracy', mode='max', verbose=1, save_best_only=True)\r\n",
        "history = model_tuned.fit(train_it,epochs=10 , validation_data=val_it, callbacks=[es, mc])"
      ],
      "execution_count": null,
      "outputs": [
        {
          "output_type": "stream",
          "text": [
            "Epoch 1/10\n",
            "276/276 [==============================] - 439s 2s/step - loss: 4.9194 - accuracy: 0.1056 - val_loss: 1.0463 - val_accuracy: 0.7360\n",
            "\n",
            "Epoch 00001: val_accuracy improved from -inf to 0.73600, saving model to /content/drive/MyDrive/best_model_2.h5\n",
            "Epoch 2/10\n",
            "276/276 [==============================] - 473s 2s/step - loss: 1.8301 - accuracy: 0.5384 - val_loss: 0.4768 - val_accuracy: 0.8632\n",
            "\n",
            "Epoch 00002: val_accuracy improved from 0.73600 to 0.86320, saving model to /content/drive/MyDrive/best_model_2.h5\n",
            "Epoch 3/10\n",
            "276/276 [==============================] - 472s 2s/step - loss: 1.2326 - accuracy: 0.6702 - val_loss: 0.3618 - val_accuracy: 0.8928\n",
            "\n",
            "Epoch 00003: val_accuracy improved from 0.86320 to 0.89280, saving model to /content/drive/MyDrive/best_model_2.h5\n",
            "Epoch 4/10\n",
            "276/276 [==============================] - 478s 2s/step - loss: 1.0010 - accuracy: 0.7327 - val_loss: 0.2911 - val_accuracy: 0.9168\n",
            "\n",
            "Epoch 00004: val_accuracy improved from 0.89280 to 0.91680, saving model to /content/drive/MyDrive/best_model_2.h5\n",
            "Epoch 5/10\n",
            "276/276 [==============================] - 466s 2s/step - loss: 0.8841 - accuracy: 0.7541 - val_loss: 0.2370 - val_accuracy: 0.9296\n",
            "\n",
            "Epoch 00005: val_accuracy improved from 0.91680 to 0.92960, saving model to /content/drive/MyDrive/best_model_2.h5\n",
            "Epoch 6/10\n",
            "276/276 [==============================] - 467s 2s/step - loss: 0.7843 - accuracy: 0.7777 - val_loss: 0.2343 - val_accuracy: 0.9312\n",
            "\n",
            "Epoch 00006: val_accuracy improved from 0.92960 to 0.93120, saving model to /content/drive/MyDrive/best_model_2.h5\n",
            "Epoch 7/10\n",
            "276/276 [==============================] - 476s 2s/step - loss: 0.7118 - accuracy: 0.8009 - val_loss: 0.2108 - val_accuracy: 0.9376\n",
            "\n",
            "Epoch 00007: val_accuracy improved from 0.93120 to 0.93760, saving model to /content/drive/MyDrive/best_model_2.h5\n",
            "Epoch 8/10\n",
            "276/276 [==============================] - 479s 2s/step - loss: 0.6773 - accuracy: 0.8027 - val_loss: 0.2015 - val_accuracy: 0.9400\n",
            "\n",
            "Epoch 00008: val_accuracy improved from 0.93760 to 0.94000, saving model to /content/drive/MyDrive/best_model_2.h5\n",
            "Epoch 9/10\n",
            "276/276 [==============================] - 468s 2s/step - loss: 0.6310 - accuracy: 0.8171 - val_loss: 0.1692 - val_accuracy: 0.9520\n",
            "\n",
            "Epoch 00009: val_accuracy improved from 0.94000 to 0.95200, saving model to /content/drive/MyDrive/best_model_2.h5\n",
            "Epoch 10/10\n",
            "276/276 [==============================] - 470s 2s/step - loss: 0.5811 - accuracy: 0.8306 - val_loss: 0.1634 - val_accuracy: 0.9512\n",
            "\n",
            "Epoch 00010: val_accuracy did not improve from 0.95200\n"
          ],
          "name": "stdout"
        }
      ]
    },
    {
      "cell_type": "markdown",
      "metadata": {
        "id": "JWDh0sjFudzs"
      },
      "source": [
        "**It's clear from the plot below that the validation accuracy is not improving with more epochs after a certain point. Early stopping was triggered after 10 epochs due to no increase in validation accuracy between 9 and 10 epochs. Interestingly, the validation accuracy is consistently higher than the training accuracy, perhaps the validation data contains less outlying examples than the training data.**"
      ]
    },
    {
      "cell_type": "code",
      "metadata": {
        "colab": {
          "base_uri": "https://localhost:8080/",
          "height": 471
        },
        "id": "-jRoAQh0slUi",
        "outputId": "fe8cc493-99b7-411c-f7f4-71e7b79667b1"
      },
      "source": [
        "# Function used to plot the curves for loss and accuracy:\r\n",
        "def plot_curves(history):\r\n",
        "\r\n",
        "  # Plotting the accuracy curve:\r\n",
        "  plt.subplot(212)\r\n",
        "  plt.title('Classification Accuracy')\r\n",
        "  plt.ylabel('accuracy')\r\n",
        "  plt.xlabel('epoch')\r\n",
        "  # Plotting the training accuracy (blue):\r\n",
        "  plt.plot(history.history['accuracy'], color='blue', label='train')\r\n",
        "  # Plotting the test accuracy (red):\r\n",
        "  plt.plot(history.history['val_accuracy'], color='red', label='test')\r\n",
        "  # Legend for the plot:\r\n",
        "  plt.legend(['train', 'validation'], loc='upper left')\r\n",
        "\r\n",
        "  plt.subplots_adjust(top=3)\r\n",
        "  plt.show()\r\n",
        "\r\n",
        "print('Done!')\r\n",
        "plot_curves(model_tuned.history)"
      ],
      "execution_count": null,
      "outputs": [
        {
          "output_type": "stream",
          "text": [
            "Done!\n"
          ],
          "name": "stdout"
        },
        {
          "output_type": "display_data",
          "data": {
            "image/png": "[encoded data removed]",
            "text/plain": [
              "<Figure size 432x288 with 1 Axes>"
            ]
          },
          "metadata": {
            "tags": [],
            "needs_background": "light"
          }
        }
      ]
    },
    {
      "cell_type": "markdown",
      "metadata": {
        "id": "GRX_nNjwDB9L"
      },
      "source": [
        "# Loading Model"
      ]
    },
    {
      "cell_type": "markdown",
      "metadata": {
        "id": "s7OpuBp7xh_j"
      },
      "source": [
        "**The trained model was uploaded to google drive, and is publicly available for download in the code block below if you just want to use the model for inference:**"
      ]
    },
    {
      "cell_type": "code",
      "metadata": {
        "colab": {
          "base_uri": "https://localhost:8080/"
        },
        "id": "XyIz4bHEIt5-",
        "outputId": "bf7be068-57a8-4f40-9c25-bea389235527"
      },
      "source": [
        "# #Trained model can be downloaded from here (ignore this if you already have the .h5 file)\r\n",
        "# !gdown --id 1-9rvlgWSmFIHexWVCturjafgP1IdDpeH"
      ],
      "execution_count": null,
      "outputs": [
        {
          "output_type": "stream",
          "text": [
            "Downloading...\n",
            "From: https://drive.google.com/uc?id=1-9rvlgWSmFIHexWVCturjafgP1IdDpeH\n",
            "To: /content/best_model_3.h5\n",
            "3.39GB [00:54, 62.3MB/s]\n"
          ],
          "name": "stdout"
        }
      ]
    },
    {
      "cell_type": "markdown",
      "metadata": {
        "id": "kkTSwzHXykcV"
      },
      "source": [
        "**Use below to load the model (make sure the model is in working directory or change the filepath below):**"
      ]
    },
    {
      "cell_type": "code",
      "metadata": {
        "id": "xAALiYvFr4n6",
        "colab": {
          "base_uri": "https://localhost:8080/"
        },
        "outputId": "f83e2dc7-6531-4a70-c840-5d628d42dab0"
      },
      "source": [
        "model_tuned = load_model('./best_model_3.h5')\r\n",
        "print('--------------------')\r\n",
        "print('Trained model loaded')\r\n",
        "print('--------------------')"
      ],
      "execution_count": null,
      "outputs": [
        {
          "output_type": "stream",
          "text": [
            "--------------------\n",
            "Trained model loaded\n",
            "--------------------\n"
          ],
          "name": "stdout"
        }
      ]
    },
    {
      "cell_type": "markdown",
      "metadata": {
        "id": "dW1Pc6Xmy75M"
      },
      "source": [
        "# Results"
      ]
    },
    {
      "cell_type": "markdown",
      "metadata": {
        "id": "jAx3xmdFyr5E"
      },
      "source": [
        "**The model accuracy is evaluated:**"
      ]
    },
    {
      "cell_type": "code",
      "metadata": {
        "colab": {
          "base_uri": "https://localhost:8080/"
        },
        "id": "QlwfKKmlIT_9",
        "outputId": "6b21921f-0afe-4e55-cd31-3f216008517a"
      },
      "source": [
        "# evaluate model\r\n",
        "test_acc = model_tuned.evaluate(test_it)\r\n",
        "print('-----------------------------------------------------------------------------------')\r\n",
        "print(f'The model classified the species of birds with {round(test_acc[1]*100,2)}% accuracy')\r\n",
        "print('-----------------------------------------------------------------------------------')"
      ],
      "execution_count": null,
      "outputs": [
        {
          "output_type": "stream",
          "text": [
            "10/10 [==============================] - 17s 1s/step - loss: 0.1373 - accuracy: 0.9616\n",
            "-----------------------------------------------------------------------------------\n",
            "The model classified the species of birds with 96.16% accuracy\n",
            "-----------------------------------------------------------------------------------\n"
          ],
          "name": "stdout"
        }
      ]
    },
    {
      "cell_type": "markdown",
      "metadata": {
        "id": "46diU_QHzAD3"
      },
      "source": [
        "**Ground truth and predicted classes are saved for use in the confusion matrix**"
      ]
    },
    {
      "cell_type": "code",
      "metadata": {
        "colab": {
          "base_uri": "https://localhost:8080/"
        },
        "id": "kg18EW7OIlSc",
        "outputId": "3226094b-ad3d-4fc2-df01-8af08b01ae05"
      },
      "source": [
        "# using model to predict species of bird\r\n",
        "predicted_classes = np.argmax(model_tuned.predict(test_it), axis=-1)\r\n",
        "# defining ground truth classes\r\n",
        "gt_classes = test_it.classes\r\n",
        "\r\n",
        "print(gt_classes.tolist())\r\n",
        "print(predicted_classes.tolist())"
      ],
      "execution_count": null,
      "outputs": [
        {
          "output_type": "stream",
          "text": [
            "[0, 0, 0, 0, 0, 1, 1, 1, 1, 1, 2, 2, 2, 2, 2, 3, 3, 3, 3, 3, 4, 4, 4, 4, 4, 5, 5, 5, 5, 5, 6, 6, 6, 6, 6, 7, 7, 7, 7, 7, 8, 8, 8, 8, 8, 9, 9, 9, 9, 9, 10, 10, 10, 10, 10, 11, 11, 11, 11, 11, 12, 12, 12, 12, 12, 13, 13, 13, 13, 13, 14, 14, 14, 14, 14, 15, 15, 15, 15, 15, 16, 16, 16, 16, 16, 17, 17, 17, 17, 17, 18, 18, 18, 18, 18, 19, 19, 19, 19, 19, 20, 20, 20, 20, 20, 21, 21, 21, 21, 21, 22, 22, 22, 22, 22, 23, 23, 23, 23, 23, 24, 24, 24, 24, 24, 25, 25, 25, 25, 25, 26, 26, 26, 26, 26, 27, 27, 27, 27, 27, 28, 28, 28, 28, 28, 29, 29, 29, 29, 29, 30, 30, 30, 30, 30, 31, 31, 31, 31, 31, 32, 32, 32, 32, 32, 33, 33, 33, 33, 33, 34, 34, 34, 34, 34, 35, 35, 35, 35, 35, 36, 36, 36, 36, 36, 37, 37, 37, 37, 37, 38, 38, 38, 38, 38, 39, 39, 39, 39, 39, 40, 40, 40, 40, 40, 41, 41, 41, 41, 41, 42, 42, 42, 42, 42, 43, 43, 43, 43, 43, 44, 44, 44, 44, 44, 45, 45, 45, 45, 45, 46, 46, 46, 46, 46, 47, 47, 47, 47, 47, 48, 48, 48, 48, 48, 49, 49, 49, 49, 49, 50, 50, 50, 50, 50, 51, 51, 51, 51, 51, 52, 52, 52, 52, 52, 53, 53, 53, 53, 53, 54, 54, 54, 54, 54, 55, 55, 55, 55, 55, 56, 56, 56, 56, 56, 57, 57, 57, 57, 57, 58, 58, 58, 58, 58, 59, 59, 59, 59, 59, 60, 60, 60, 60, 60, 61, 61, 61, 61, 61, 62, 62, 62, 62, 62, 63, 63, 63, 63, 63, 64, 64, 64, 64, 64, 65, 65, 65, 65, 65, 66, 66, 66, 66, 66, 67, 67, 67, 67, 67, 68, 68, 68, 68, 68, 69, 69, 69, 69, 69, 70, 70, 70, 70, 70, 71, 71, 71, 71, 71, 72, 72, 72, 72, 72, 73, 73, 73, 73, 73, 74, 74, 74, 74, 74, 75, 75, 75, 75, 75, 76, 76, 76, 76, 76, 77, 77, 77, 77, 77, 78, 78, 78, 78, 78, 79, 79, 79, 79, 79, 80, 80, 80, 80, 80, 81, 81, 81, 81, 81, 82, 82, 82, 82, 82, 83, 83, 83, 83, 83, 84, 84, 84, 84, 84, 85, 85, 85, 85, 85, 86, 86, 86, 86, 86, 87, 87, 87, 87, 87, 88, 88, 88, 88, 88, 89, 89, 89, 89, 89, 90, 90, 90, 90, 90, 91, 91, 91, 91, 91, 92, 92, 92, 92, 92, 93, 93, 93, 93, 93, 94, 94, 94, 94, 94, 95, 95, 95, 95, 95, 96, 96, 96, 96, 96, 97, 97, 97, 97, 97, 98, 98, 98, 98, 98, 99, 99, 99, 99, 99, 100, 100, 100, 100, 100, 101, 101, 101, 101, 101, 102, 102, 102, 102, 102, 103, 103, 103, 103, 103, 104, 104, 104, 104, 104, 105, 105, 105, 105, 105, 106, 106, 106, 106, 106, 107, 107, 107, 107, 107, 108, 108, 108, 108, 108, 109, 109, 109, 109, 109, 110, 110, 110, 110, 110, 111, 111, 111, 111, 111, 112, 112, 112, 112, 112, 113, 113, 113, 113, 113, 114, 114, 114, 114, 114, 115, 115, 115, 115, 115, 116, 116, 116, 116, 116, 117, 117, 117, 117, 117, 118, 118, 118, 118, 118, 119, 119, 119, 119, 119, 120, 120, 120, 120, 120, 121, 121, 121, 121, 121, 122, 122, 122, 122, 122, 123, 123, 123, 123, 123, 124, 124, 124, 124, 124, 125, 125, 125, 125, 125, 126, 126, 126, 126, 126, 127, 127, 127, 127, 127, 128, 128, 128, 128, 128, 129, 129, 129, 129, 129, 130, 130, 130, 130, 130, 131, 131, 131, 131, 131, 132, 132, 132, 132, 132, 133, 133, 133, 133, 133, 134, 134, 134, 134, 134, 135, 135, 135, 135, 135, 136, 136, 136, 136, 136, 137, 137, 137, 137, 137, 138, 138, 138, 138, 138, 139, 139, 139, 139, 139, 140, 140, 140, 140, 140, 141, 141, 141, 141, 141, 142, 142, 142, 142, 142, 143, 143, 143, 143, 143, 144, 144, 144, 144, 144, 145, 145, 145, 145, 145, 146, 146, 146, 146, 146, 147, 147, 147, 147, 147, 148, 148, 148, 148, 148, 149, 149, 149, 149, 149, 150, 150, 150, 150, 150, 151, 151, 151, 151, 151, 152, 152, 152, 152, 152, 153, 153, 153, 153, 153, 154, 154, 154, 154, 154, 155, 155, 155, 155, 155, 156, 156, 156, 156, 156, 157, 157, 157, 157, 157, 158, 158, 158, 158, 158, 159, 159, 159, 159, 159, 160, 160, 160, 160, 160, 161, 161, 161, 161, 161, 162, 162, 162, 162, 162, 163, 163, 163, 163, 163, 164, 164, 164, 164, 164, 165, 165, 165, 165, 165, 166, 166, 166, 166, 166, 167, 167, 167, 167, 167, 168, 168, 168, 168, 168, 169, 169, 169, 169, 169, 170, 170, 170, 170, 170, 171, 171, 171, 171, 171, 172, 172, 172, 172, 172, 173, 173, 173, 173, 173, 174, 174, 174, 174, 174, 175, 175, 175, 175, 175, 176, 176, 176, 176, 176, 177, 177, 177, 177, 177, 178, 178, 178, 178, 178, 179, 179, 179, 179, 179, 180, 180, 180, 180, 180, 181, 181, 181, 181, 181, 182, 182, 182, 182, 182, 183, 183, 183, 183, 183, 184, 184, 184, 184, 184, 185, 185, 185, 185, 185, 186, 186, 186, 186, 186, 187, 187, 187, 187, 187, 188, 188, 188, 188, 188, 189, 189, 189, 189, 189, 190, 190, 190, 190, 190, 191, 191, 191, 191, 191, 192, 192, 192, 192, 192, 193, 193, 193, 193, 193, 194, 194, 194, 194, 194, 195, 195, 195, 195, 195, 196, 196, 196, 196, 196, 197, 197, 197, 197, 197, 198, 198, 198, 198, 198, 199, 199, 199, 199, 199, 200, 200, 200, 200, 200, 201, 201, 201, 201, 201, 202, 202, 202, 202, 202, 203, 203, 203, 203, 203, 204, 204, 204, 204, 204, 205, 205, 205, 205, 205, 206, 206, 206, 206, 206, 207, 207, 207, 207, 207, 208, 208, 208, 208, 208, 209, 209, 209, 209, 209, 210, 210, 210, 210, 210, 211, 211, 211, 211, 211, 212, 212, 212, 212, 212, 213, 213, 213, 213, 213, 214, 214, 214, 214, 214, 215, 215, 215, 215, 215, 216, 216, 216, 216, 216, 217, 217, 217, 217, 217, 218, 218, 218, 218, 218, 219, 219, 219, 219, 219, 220, 220, 220, 220, 220, 221, 221, 221, 221, 221, 222, 222, 222, 222, 222, 223, 223, 223, 223, 223, 224, 224, 224, 224, 224, 225, 225, 225, 225, 225, 226, 226, 226, 226, 226, 227, 227, 227, 227, 227, 228, 228, 228, 228, 228, 229, 229, 229, 229, 229, 230, 230, 230, 230, 230, 231, 231, 231, 231, 231, 232, 232, 232, 232, 232, 233, 233, 233, 233, 233, 234, 234, 234, 234, 234, 235, 235, 235, 235, 235, 236, 236, 236, 236, 236, 237, 237, 237, 237, 237, 238, 238, 238, 238, 238, 239, 239, 239, 239, 239, 240, 240, 240, 240, 240, 241, 241, 241, 241, 241, 242, 242, 242, 242, 242, 243, 243, 243, 243, 243, 244, 244, 244, 244, 244, 245, 245, 245, 245, 245, 246, 246, 246, 246, 246, 247, 247, 247, 247, 247, 248, 248, 248, 248, 248, 249, 249, 249, 249, 249]\n",
            "[0, 0, 0, 0, 0, 1, 1, 1, 1, 218, 2, 2, 2, 2, 2, 3, 3, 3, 3, 3, 4, 4, 4, 4, 4, 5, 5, 5, 5, 5, 6, 6, 6, 6, 6, 7, 7, 7, 7, 7, 8, 8, 76, 8, 8, 9, 158, 9, 9, 9, 10, 10, 10, 159, 10, 11, 11, 11, 11, 11, 12, 12, 12, 12, 12, 13, 88, 13, 13, 13, 14, 14, 14, 14, 14, 15, 15, 15, 15, 15, 16, 16, 16, 16, 16, 17, 17, 17, 17, 17, 18, 18, 18, 18, 18, 96, 19, 19, 19, 19, 20, 20, 20, 20, 20, 21, 21, 21, 21, 21, 22, 22, 22, 22, 22, 23, 23, 23, 23, 23, 24, 24, 24, 24, 24, 25, 25, 25, 25, 25, 26, 26, 26, 26, 118, 27, 27, 27, 27, 27, 28, 28, 28, 28, 28, 29, 29, 29, 29, 29, 0, 30, 30, 30, 30, 31, 31, 31, 31, 31, 32, 32, 32, 32, 32, 33, 33, 33, 33, 33, 34, 34, 34, 34, 34, 35, 35, 35, 35, 35, 36, 36, 36, 36, 36, 37, 37, 37, 37, 37, 38, 38, 38, 38, 38, 39, 39, 39, 39, 208, 40, 40, 40, 40, 121, 41, 41, 41, 41, 41, 42, 42, 42, 42, 42, 43, 43, 43, 43, 43, 44, 44, 44, 44, 44, 45, 45, 45, 45, 45, 46, 46, 46, 46, 46, 47, 47, 47, 47, 47, 48, 48, 48, 48, 48, 49, 49, 167, 49, 49, 50, 50, 50, 50, 50, 51, 51, 51, 51, 51, 52, 52, 52, 52, 52, 53, 53, 53, 53, 53, 54, 54, 54, 54, 54, 55, 55, 55, 55, 55, 56, 56, 56, 56, 56, 57, 57, 57, 57, 57, 58, 58, 58, 58, 58, 59, 59, 59, 59, 59, 60, 60, 60, 60, 60, 61, 61, 61, 61, 61, 62, 62, 62, 62, 62, 38, 63, 63, 63, 63, 64, 64, 64, 64, 64, 65, 65, 65, 65, 65, 66, 66, 66, 66, 66, 67, 67, 67, 67, 67, 226, 226, 68, 68, 68, 69, 69, 69, 69, 69, 70, 70, 70, 70, 70, 71, 71, 71, 71, 71, 72, 72, 72, 72, 72, 73, 73, 73, 73, 73, 74, 74, 74, 74, 74, 75, 75, 75, 75, 75, 76, 76, 76, 76, 76, 77, 77, 77, 77, 77, 78, 78, 78, 78, 78, 79, 79, 79, 79, 79, 80, 80, 80, 80, 80, 81, 148, 81, 81, 81, 82, 82, 82, 82, 82, 83, 83, 83, 83, 83, 84, 84, 84, 84, 84, 85, 85, 85, 85, 85, 86, 86, 86, 86, 86, 87, 87, 87, 87, 87, 88, 88, 88, 88, 88, 89, 89, 89, 89, 89, 2, 90, 90, 90, 90, 91, 91, 91, 91, 91, 92, 75, 92, 92, 92, 93, 93, 93, 93, 93, 94, 94, 94, 94, 94, 95, 95, 95, 95, 95, 96, 96, 96, 96, 96, 228, 97, 97, 97, 97, 98, 98, 98, 98, 98, 99, 99, 197, 99, 99, 100, 100, 100, 100, 100, 101, 101, 101, 101, 101, 102, 102, 102, 102, 102, 103, 103, 103, 103, 103, 55, 104, 104, 104, 104, 156, 105, 16, 105, 63, 106, 106, 106, 106, 106, 107, 107, 107, 107, 107, 108, 108, 108, 108, 108, 109, 109, 109, 109, 109, 110, 110, 110, 110, 110, 111, 163, 209, 111, 111, 112, 112, 112, 16, 112, 113, 113, 113, 113, 113, 114, 114, 114, 114, 114, 115, 115, 115, 115, 115, 116, 116, 116, 116, 116, 117, 117, 117, 117, 117, 118, 118, 118, 118, 118, 119, 119, 119, 119, 119, 120, 120, 120, 120, 120, 121, 121, 176, 121, 121, 122, 122, 122, 122, 122, 123, 123, 123, 123, 123, 124, 124, 124, 124, 124, 125, 125, 125, 125, 125, 126, 126, 126, 126, 126, 127, 127, 127, 127, 127, 128, 128, 128, 128, 128, 129, 129, 129, 129, 129, 130, 130, 130, 130, 130, 131, 131, 131, 131, 131, 132, 132, 132, 132, 182, 133, 133, 133, 133, 133, 134, 134, 134, 134, 134, 135, 135, 135, 135, 135, 136, 136, 136, 136, 136, 137, 137, 137, 137, 137, 138, 138, 138, 138, 138, 139, 139, 139, 139, 139, 140, 140, 140, 140, 140, 141, 141, 141, 141, 141, 142, 142, 142, 142, 142, 143, 143, 143, 143, 143, 144, 144, 144, 144, 144, 145, 145, 145, 145, 145, 146, 146, 146, 146, 146, 147, 147, 147, 147, 147, 148, 148, 148, 148, 148, 1, 149, 149, 149, 149, 150, 150, 150, 150, 150, 151, 151, 151, 151, 151, 152, 152, 152, 152, 152, 153, 153, 153, 186, 153, 154, 154, 154, 154, 154, 146, 155, 155, 155, 155, 156, 156, 156, 156, 156, 157, 157, 157, 157, 157, 158, 158, 158, 158, 158, 159, 159, 159, 159, 159, 160, 160, 160, 160, 160, 113, 161, 161, 161, 161, 162, 162, 162, 162, 162, 163, 112, 163, 163, 163, 164, 164, 164, 164, 164, 165, 165, 165, 165, 165, 166, 166, 166, 166, 166, 167, 167, 167, 167, 167, 168, 168, 168, 168, 168, 169, 169, 169, 169, 169, 170, 170, 170, 170, 170, 171, 171, 171, 171, 171, 172, 172, 172, 172, 172, 173, 173, 173, 173, 173, 174, 174, 174, 174, 174, 175, 175, 175, 175, 175, 176, 176, 176, 176, 176, 177, 177, 177, 177, 177, 178, 178, 178, 178, 178, 179, 179, 179, 179, 179, 180, 180, 180, 180, 180, 181, 181, 181, 181, 181, 182, 182, 182, 182, 182, 183, 183, 183, 183, 183, 184, 220, 184, 184, 184, 185, 185, 185, 185, 35, 186, 186, 186, 186, 186, 187, 187, 187, 187, 187, 188, 188, 188, 188, 188, 189, 189, 189, 189, 189, 190, 190, 40, 190, 9, 191, 191, 191, 191, 191, 192, 192, 192, 192, 221, 193, 193, 193, 193, 193, 194, 194, 194, 194, 194, 195, 195, 195, 195, 195, 196, 196, 196, 196, 196, 197, 197, 197, 197, 197, 198, 198, 198, 198, 198, 199, 199, 199, 199, 199, 200, 200, 200, 200, 200, 201, 201, 201, 201, 201, 202, 202, 202, 202, 202, 203, 203, 203, 203, 203, 204, 204, 204, 204, 204, 205, 205, 205, 205, 205, 206, 21, 206, 206, 206, 207, 207, 207, 207, 207, 208, 208, 208, 208, 208, 209, 209, 209, 209, 209, 210, 210, 210, 210, 210, 211, 211, 211, 211, 211, 212, 138, 212, 212, 212, 9, 213, 213, 213, 213, 214, 214, 214, 214, 214, 215, 215, 215, 215, 215, 216, 216, 216, 216, 216, 217, 217, 217, 217, 217, 218, 218, 218, 218, 218, 219, 219, 219, 219, 219, 220, 220, 220, 220, 220, 221, 221, 221, 221, 221, 222, 222, 222, 222, 222, 223, 223, 223, 223, 223, 224, 224, 224, 224, 224, 225, 225, 225, 56, 225, 226, 226, 226, 226, 226, 227, 227, 227, 227, 227, 228, 228, 228, 228, 97, 229, 229, 229, 229, 229, 230, 230, 230, 230, 230, 231, 44, 231, 231, 231, 232, 232, 232, 232, 232, 233, 233, 233, 233, 233, 234, 234, 234, 234, 234, 235, 235, 235, 235, 235, 236, 236, 236, 236, 236, 237, 237, 237, 237, 237, 238, 238, 238, 238, 238, 239, 239, 239, 239, 239, 240, 240, 240, 240, 240, 241, 241, 241, 241, 241, 45, 242, 242, 242, 44, 243, 243, 243, 243, 243, 244, 244, 244, 244, 244, 245, 245, 245, 245, 245, 246, 246, 246, 246, 246, 247, 247, 247, 247, 247, 248, 248, 248, 248, 248, 249, 40, 249, 77, 249]\n"
          ],
          "name": "stdout"
        }
      ]
    },
    {
      "cell_type": "markdown",
      "metadata": {
        "id": "VnQUVgWnzI6s"
      },
      "source": [
        "**Accuracy, precision and recall reported. Precision and recall were calculated using macro averaging.**"
      ]
    },
    {
      "cell_type": "code",
      "metadata": {
        "colab": {
          "base_uri": "https://localhost:8080/"
        },
        "id": "9V6fqy1Kp2Fd",
        "outputId": "4c53dfbb-eb5b-481a-cab8-084e72697225"
      },
      "source": [
        "#calculating accuracy, precision and recall\r\n",
        "print('====================')\r\n",
        "print(f'accuracy: {accuracy_score(gt_classes, predicted_classes)}')\r\n",
        "print('====================')\r\n",
        "print(f'precision: {round(precision_score(gt_classes, predicted_classes, average=\"macro\"),4)}')\r\n",
        "print('====================')\r\n",
        "print(f'recall: {recall_score(gt_classes, predicted_classes, average=\"macro\")}')\r\n",
        "print('====================')"
      ],
      "execution_count": null,
      "outputs": [
        {
          "output_type": "stream",
          "text": [
            "====================\n",
            "accuracy: 0.9616\n",
            "====================\n",
            "precision: 0.9676\n",
            "====================\n",
            "recall: 0.9616\n",
            "====================\n"
          ],
          "name": "stdout"
        }
      ]
    },
    {
      "cell_type": "markdown",
      "metadata": {
        "id": "LZh4gQzz1KCt"
      },
      "source": [
        "**A confusion matrix/heatmap was created using seaborn and pyplot, based on the prediction of species in the test set (1250 images). The colour scale on the side shows the coresponding colours to how many classes were predicted for each truth/prediction pair. Ideally everywhere would be completely black except for the diagonal (represents ground truth and prediction matching). The reality is not far of this, with only a few classification mistakes dotted arround. Two species were misclassified as the same species twice (two maroon dots), likely meaning that the model is getting confused between the two birds due to similarities.**"
      ]
    },
    {
      "cell_type": "code",
      "metadata": {
        "colab": {
          "base_uri": "https://localhost:8080/",
          "height": 971
        },
        "id": "TFUTdiCJHDtz",
        "outputId": "06157546-5b2d-45c7-e9cb-167e31732650"
      },
      "source": [
        "#creating confusion matrix from ground truth and predicted values for 'Survived'\r\n",
        "cmbird = confusion_matrix(predicted_classes, gt_classes)\r\n",
        "\r\n",
        "#Formatting confusion matrix into heatmap.\r\n",
        "plt.figure(figsize = (21,16))\r\n",
        "sns.heatmap(cmbird, fmt='')\r\n",
        "plt.xlabel('Predicted', fontsize=20)\r\n",
        "plt.ylabel('Truth', fontsize=20)\r\n",
        "plt.title('Bird Classification Confusion Matrix (250 Species)', fontsize=20);\r\n",
        "\r\n",
        "#saving for use in report\r\n",
        "plt.savefig('cmbird.png')"
      ],
      "execution_count": null,
      "outputs": [
        {
          "output_type": "display_data",
          "data": {
            "image/png": "[encoded data removed]",
            "text/plain": [
              "<Figure size 1512x1152 with 2 Axes>"
            ]
          },
          "metadata": {
            "tags": [],
            "needs_background": "light"
          }
        }
      ]
    },
    {
      "cell_type": "markdown",
      "metadata": {
        "id": "T_u5nFw1yTC1"
      },
      "source": [
        "# Inference"
      ]
    },
    {
      "cell_type": "markdown",
      "metadata": {
        "id": "bl40V1MZ3KLo"
      },
      "source": [
        "**The species dictionary is printed to examine it's structure**"
      ]
    },
    {
      "cell_type": "code",
      "metadata": {
        "colab": {
          "base_uri": "https://localhost:8080/"
        },
        "id": "dq-rU_k7dJP6",
        "outputId": "0939c9cc-519b-4a49-c6f2-8f7fc697b472"
      },
      "source": [
        "train_it.class_indices"
      ],
      "execution_count": null,
      "outputs": [
        {
          "output_type": "execute_result",
          "data": {
            "text/plain": [
              "{'AFRICAN CROWNED CRANE': 0,\n",
              " 'AFRICAN FIREFINCH': 1,\n",
              " 'ALBATROSS': 2,\n",
              " 'ALEXANDRINE PARAKEET': 3,\n",
              " 'AMERICAN AVOCET': 4,\n",
              " 'AMERICAN BITTERN': 5,\n",
              " 'AMERICAN COOT': 6,\n",
              " 'AMERICAN GOLDFINCH': 7,\n",
              " 'AMERICAN KESTREL': 8,\n",
              " 'AMERICAN PIPIT': 9,\n",
              " 'AMERICAN REDSTART': 10,\n",
              " 'ANHINGA': 11,\n",
              " 'ANNAS HUMMINGBIRD': 12,\n",
              " 'ANTBIRD': 13,\n",
              " 'ARARIPE MANAKIN': 14,\n",
              " 'ASIAN CRESTED IBIS': 15,\n",
              " 'BALD EAGLE': 16,\n",
              " 'BALI STARLING': 17,\n",
              " 'BALTIMORE ORIOLE': 18,\n",
              " 'BANANAQUIT': 19,\n",
              " 'BANDED BROADBILL': 20,\n",
              " 'BAR-TAILED GODWIT': 21,\n",
              " 'BARN OWL': 22,\n",
              " 'BARN SWALLOW': 23,\n",
              " 'BARRED PUFFBIRD': 24,\n",
              " 'BAY-BREASTED WARBLER': 25,\n",
              " 'BEARDED BARBET': 26,\n",
              " 'BELTED KINGFISHER': 27,\n",
              " 'BIRD OF PARADISE': 28,\n",
              " 'BLACK FRANCOLIN': 29,\n",
              " 'BLACK SKIMMER': 30,\n",
              " 'BLACK SWAN': 31,\n",
              " 'BLACK THROATED WARBLER': 32,\n",
              " 'BLACK VULTURE': 33,\n",
              " 'BLACK-CAPPED CHICKADEE': 34,\n",
              " 'BLACK-NECKED GREBE': 35,\n",
              " 'BLACK-THROATED SPARROW': 36,\n",
              " 'BLACKBURNIAM WARBLER': 37,\n",
              " 'BLUE GROUSE': 38,\n",
              " 'BLUE HERON': 39,\n",
              " 'BOBOLINK': 40,\n",
              " 'BROWN NOODY': 41,\n",
              " 'BROWN THRASHER': 42,\n",
              " 'CACTUS WREN': 43,\n",
              " 'CALIFORNIA CONDOR': 44,\n",
              " 'CALIFORNIA GULL': 45,\n",
              " 'CALIFORNIA QUAIL': 46,\n",
              " 'CANARY': 47,\n",
              " 'CAPE MAY WARBLER': 48,\n",
              " 'CAPUCHINBIRD': 49,\n",
              " 'CARMINE BEE-EATER': 50,\n",
              " 'CASPIAN TERN': 51,\n",
              " 'CASSOWARY': 52,\n",
              " 'CHARA DE COLLAR': 53,\n",
              " 'CHIPPING SPARROW': 54,\n",
              " 'CHUKAR PARTRIDGE': 55,\n",
              " 'CINNAMON TEAL': 56,\n",
              " 'COCK OF THE  ROCK': 57,\n",
              " 'COCKATOO': 58,\n",
              " 'COMMON FIRECREST': 59,\n",
              " 'COMMON GRACKLE': 60,\n",
              " 'COMMON HOUSE MARTIN': 61,\n",
              " 'COMMON LOON': 62,\n",
              " 'COMMON POORWILL': 63,\n",
              " 'COMMON STARLING': 64,\n",
              " 'COUCHS KINGBIRD': 65,\n",
              " 'CRESTED AUKLET': 66,\n",
              " 'CRESTED CARACARA': 67,\n",
              " 'CRESTED NUTHATCH': 68,\n",
              " 'CROW': 69,\n",
              " 'CROWNED PIGEON': 70,\n",
              " 'CUBAN TODY': 71,\n",
              " 'CURL CRESTED ARACURI': 72,\n",
              " 'D-ARNAUDS BARBET': 73,\n",
              " 'DARK EYED JUNCO': 74,\n",
              " 'DOWNY WOODPECKER': 75,\n",
              " 'EASTERN BLUEBIRD': 76,\n",
              " 'EASTERN MEADOWLARK': 77,\n",
              " 'EASTERN ROSELLA': 78,\n",
              " 'EASTERN TOWEE': 79,\n",
              " 'ELEGANT TROGON': 80,\n",
              " 'ELLIOTS  PHEASANT': 81,\n",
              " 'EMPEROR PENGUIN': 82,\n",
              " 'EMU': 83,\n",
              " 'EURASIAN GOLDEN ORIOLE': 84,\n",
              " 'EURASIAN MAGPIE': 85,\n",
              " 'EVENING GROSBEAK': 86,\n",
              " 'FIRE TAILLED MYZORNIS': 87,\n",
              " 'FLAME TANAGER': 88,\n",
              " 'FLAMINGO': 89,\n",
              " 'FRIGATE': 90,\n",
              " 'GAMBELS QUAIL': 91,\n",
              " 'GILA WOODPECKER': 92,\n",
              " 'GILDED FLICKER': 93,\n",
              " 'GLOSSY IBIS': 94,\n",
              " 'GO AWAY BIRD': 95,\n",
              " 'GOLD WING WARBLER': 96,\n",
              " 'GOLDEN CHEEKED WARBLER': 97,\n",
              " 'GOLDEN CHLOROPHONIA': 98,\n",
              " 'GOLDEN EAGLE': 99,\n",
              " 'GOLDEN PHEASANT': 100,\n",
              " 'GOLDEN PIPIT': 101,\n",
              " 'GOULDIAN FINCH': 102,\n",
              " 'GRAY CATBIRD': 103,\n",
              " 'GRAY PARTRIDGE': 104,\n",
              " 'GREAT POTOO': 105,\n",
              " 'GREATOR SAGE GROUSE': 106,\n",
              " 'GREEN JAY': 107,\n",
              " 'GREY PLOVER': 108,\n",
              " 'GUINEA TURACO': 109,\n",
              " 'GUINEAFOWL': 110,\n",
              " 'GYRFALCON': 111,\n",
              " 'HARPY EAGLE': 112,\n",
              " 'HAWAIIAN GOOSE': 113,\n",
              " 'HELMET VANGA': 114,\n",
              " 'HOATZIN': 115,\n",
              " 'HOODED MERGANSER': 116,\n",
              " 'HOOPOES': 117,\n",
              " 'HORNBILL': 118,\n",
              " 'HORNED GUAN': 119,\n",
              " 'HORNED SUNGEM': 120,\n",
              " 'HOUSE FINCH': 121,\n",
              " 'HOUSE SPARROW': 122,\n",
              " 'IMPERIAL SHAQ': 123,\n",
              " 'INCA TERN': 124,\n",
              " 'INDIAN BUSTARD': 125,\n",
              " 'INDIAN PITTA': 126,\n",
              " 'INDIGO BUNTING': 127,\n",
              " 'JABIRU': 128,\n",
              " 'JAVA SPARROW': 129,\n",
              " 'JAVAN MAGPIE': 130,\n",
              " 'KAKAPO': 131,\n",
              " 'KILLDEAR': 132,\n",
              " 'KING VULTURE': 133,\n",
              " 'KIWI': 134,\n",
              " 'KOOKABURRA': 135,\n",
              " 'LARK BUNTING': 136,\n",
              " 'LEARS MACAW': 137,\n",
              " 'LILAC ROLLER': 138,\n",
              " 'LONG-EARED OWL': 139,\n",
              " 'MALABAR HORNBILL': 140,\n",
              " 'MALACHITE KINGFISHER': 141,\n",
              " 'MALEO': 142,\n",
              " 'MALLARD DUCK': 143,\n",
              " 'MANDRIN DUCK': 144,\n",
              " 'MARABOU STORK': 145,\n",
              " 'MASKED BOOBY': 146,\n",
              " 'MASKED LAPWING': 147,\n",
              " 'MIKADO  PHEASANT': 148,\n",
              " 'MOURNING DOVE': 149,\n",
              " 'MYNA': 150,\n",
              " 'NICOBAR PIGEON': 151,\n",
              " 'NORTHERN BALD IBIS': 152,\n",
              " 'NORTHERN CARDINAL': 153,\n",
              " 'NORTHERN FLICKER': 154,\n",
              " 'NORTHERN GANNET': 155,\n",
              " 'NORTHERN GOSHAWK': 156,\n",
              " 'NORTHERN JACANA': 157,\n",
              " 'NORTHERN MOCKINGBIRD': 158,\n",
              " 'NORTHERN PARULA': 159,\n",
              " 'NORTHERN RED BISHOP': 160,\n",
              " 'OCELLATED TURKEY': 161,\n",
              " 'OKINAWA RAIL': 162,\n",
              " 'OSPREY': 163,\n",
              " 'OSTRICH': 164,\n",
              " 'OYSTER CATCHER': 165,\n",
              " 'PAINTED BUNTIG': 166,\n",
              " 'PALILA': 167,\n",
              " 'PARADISE TANAGER': 168,\n",
              " 'PARUS MAJOR': 169,\n",
              " 'PEACOCK': 170,\n",
              " 'PELICAN': 171,\n",
              " 'PEREGRINE FALCON': 172,\n",
              " 'PHILIPPINE EAGLE': 173,\n",
              " 'PINK ROBIN': 174,\n",
              " 'PUFFIN': 175,\n",
              " 'PURPLE FINCH': 176,\n",
              " 'PURPLE GALLINULE': 177,\n",
              " 'PURPLE MARTIN': 178,\n",
              " 'PURPLE SWAMPHEN': 179,\n",
              " 'QUETZAL': 180,\n",
              " 'RAINBOW LORIKEET': 181,\n",
              " 'RAZORBILL': 182,\n",
              " 'RED BEARDED BEE EATER': 183,\n",
              " 'RED BELLIED PITTA': 184,\n",
              " 'RED FACED CORMORANT': 185,\n",
              " 'RED FACED WARBLER': 186,\n",
              " 'RED HEADED DUCK': 187,\n",
              " 'RED HEADED WOODPECKER': 188,\n",
              " 'RED HONEY CREEPER': 189,\n",
              " 'RED WINGED BLACKBIRD': 190,\n",
              " 'RED WISKERED BULBUL': 191,\n",
              " 'RING-NECKED PHEASANT': 192,\n",
              " 'ROADRUNNER': 193,\n",
              " 'ROBIN': 194,\n",
              " 'ROCK DOVE': 195,\n",
              " 'ROSY FACED LOVEBIRD': 196,\n",
              " 'ROUGH LEG BUZZARD': 197,\n",
              " 'RUBY THROATED HUMMINGBIRD': 198,\n",
              " 'RUFOUS KINGFISHER': 199,\n",
              " 'RUFUOS MOTMOT': 200,\n",
              " 'SAMATRAN THRUSH': 201,\n",
              " 'SAND MARTIN': 202,\n",
              " 'SCARLET IBIS': 203,\n",
              " 'SCARLET MACAW': 204,\n",
              " 'SHOEBILL': 205,\n",
              " 'SHORT BILLED DOWITCHER': 206,\n",
              " 'SMITHS LONGSPUR': 207,\n",
              " 'SNOWY EGRET': 208,\n",
              " 'SNOWY OWL': 209,\n",
              " 'SORA': 210,\n",
              " 'SPANGLED COTINGA': 211,\n",
              " 'SPLENDID WREN': 212,\n",
              " 'SPOON BILED SANDPIPER': 213,\n",
              " 'SPOONBILL': 214,\n",
              " 'SRI LANKA BLUE MAGPIE': 215,\n",
              " 'STEAMER DUCK': 216,\n",
              " 'STORK BILLED KINGFISHER': 217,\n",
              " 'STRAWBERRY FINCH': 218,\n",
              " 'STRIPPED SWALLOW': 219,\n",
              " 'SUPERB STARLING': 220,\n",
              " 'SWINHOES PHEASANT': 221,\n",
              " 'TAIWAN MAGPIE': 222,\n",
              " 'TAKAHE': 223,\n",
              " 'TASMANIAN HEN': 224,\n",
              " 'TEAL DUCK': 225,\n",
              " 'TIT MOUSE': 226,\n",
              " 'TOUCHAN': 227,\n",
              " 'TOWNSENDS WARBLER': 228,\n",
              " 'TREE SWALLOW': 229,\n",
              " 'TRUMPTER SWAN': 230,\n",
              " 'TURKEY VULTURE': 231,\n",
              " 'TURQUOISE MOTMOT': 232,\n",
              " 'UMBRELLA BIRD': 233,\n",
              " 'VARIED THRUSH': 234,\n",
              " 'VENEZUELIAN TROUPIAL': 235,\n",
              " 'VERMILION FLYCATHER': 236,\n",
              " 'VIOLET GREEN SWALLOW': 237,\n",
              " 'VULTURINE GUINEAFOWL': 238,\n",
              " 'WATTLED CURASSOW': 239,\n",
              " 'WHIMBREL': 240,\n",
              " 'WHITE CHEEKED TURACO': 241,\n",
              " 'WHITE NECKED RAVEN': 242,\n",
              " 'WHITE TAILED TROPIC': 243,\n",
              " 'WILD TURKEY': 244,\n",
              " 'WILSONS BIRD OF PARADISE': 245,\n",
              " 'WOOD DUCK': 246,\n",
              " 'YELLOW BELLIED FLOWERPECKER': 247,\n",
              " 'YELLOW CACIQUE': 248,\n",
              " 'YELLOW HEADED BLACKBIRD': 249}"
            ]
          },
          "metadata": {
            "tags": []
          },
          "execution_count": 22
        }
      ]
    },
    {
      "cell_type": "markdown",
      "metadata": {
        "id": "BvzV2wSM3dqJ"
      },
      "source": [
        "**The trained model is writetn into a function `classify_bird()`, which takes a filepath as input, and outputs the image with a species label. A percentage certainty value is also attached which represents the maximum probability value output by the softmax function of the model *100.**"
      ]
    },
    {
      "cell_type": "code",
      "metadata": {
        "id": "GJ11l4e6yXr7"
      },
      "source": [
        "# Using the pre-trained model to make a classifier function\r\n",
        "\r\n",
        "# saving dictionary of species\r\n",
        "dic=train_it.class_indices\r\n",
        "# switching keys and values around for indexing\r\n",
        "spec_label={k:v for v,k in dic.items()}\r\n",
        "\r\n",
        "def classify_bird(filepath):\r\n",
        "  # loading image\r\n",
        "  image=load_img(filepath,target_size=(224,224,3))\r\n",
        "  # converting image to array\r\n",
        "  image=img_to_array(image)\r\n",
        "  # converting from 0-155 to 0-1\r\n",
        "  image=image/255\r\n",
        "  image=np.expand_dims(image,[0])\r\n",
        "  # predict the probability across all output classes\r\n",
        "  yhat = np.argmax(model_tuned.predict(image), axis=-1)\r\n",
        "  # convert the probabilities to class labels\r\n",
        "  label = spec_label[yhat[0]]\r\n",
        "  # calculating the percentage certainty\r\n",
        "  perc = np.max(model_tuned.predict(image)*100)\r\n",
        "  #loading image\r\n",
        "  img = load_img(filepath, target_size=(224,224,3))\r\n",
        "  #displaying image\r\n",
        "  plt.imshow(img)\r\n",
        "  #setting title to classification\r\n",
        "  plt.title(\"I'm {:0.2f}% sure this is a {}\".format(perc, label))"
      ],
      "execution_count": null,
      "outputs": []
    },
    {
      "cell_type": "code",
      "metadata": {
        "colab": {
          "base_uri": "https://localhost:8080/",
          "height": 281
        },
        "id": "d3m7WFibzXHY",
        "outputId": "04a8eee2-ea2e-438a-8566-8fdbf65bc555"
      },
      "source": [
        "classify_bird('/content/consolidated/consolidated/PURPLE SWAMPHEN/001.jpg')"
      ],
      "execution_count": null,
      "outputs": [
        {
          "output_type": "display_data",
          "data": {
            "image/png": "[encoded data removed]",
            "text/plain": [
              "<Figure size 432x288 with 1 Axes>"
            ]
          },
          "metadata": {
            "tags": [],
            "needs_background": "light"
          }
        }
      ]
    },
    {
      "cell_type": "markdown",
      "metadata": {
        "id": "xe92Qj7uNRB4"
      },
      "source": [
        "# References"
      ]
    },
    {
      "cell_type": "markdown",
      "metadata": {
        "id": "mnkCkIC7VM5z"
      },
      "source": [
        "Brownlee, J., 2021. Transfer Learning in Keras with Computer Vision Models. [online] Machine Learning Mastery. Available at: <https://machinelearningmastery.com/how-to-use-transfer-learning-when-developing-convolutional-neural-network-models/> [Accessed 18 February 2021].\r\n",
        "\r\n",
        "Brownlee, J., 2021. How to Configure Image Data Augmentation in Keras. [online] Machine Learning Mastery. Available at: <https://machinelearningmastery.com/how-to-configure-image-data-augmentation-when-training-deep-learning-neural-networks/> [Accessed 25 February 2021].\r\n",
        "\r\n",
        "Huilgol, P., 2020. Top 4 Pre-Trained Models for Image Classification | With Python Code. [online] Analytics Vidhya. Available at: <https://www.analyticsvidhya.com/blog/2020/08/top-4-pre-trained-models-for-image-classification-with-python-code/> [Accessed 24 February 2021].\r\n",
        "\r\n",
        "Medium. 2021. A guide to transfer learning with Keras using ResNet50. [online] Available at: <https://medium.com/@kenneth.ca95/a-guide-to-transfer-learning-with-keras-using-resnet50-a81a4a28084b> [Accessed 17 February 2021].\r\n",
        "\r\n",
        "Mohajon, J., 2021. Confusion Matrix for Your Multi-Class Machine Learning Model. [online] Medium. Available at: <https://towardsdatascience.com/confusion-matrix-for-your-multi-class-machine-learning-model-ff9aa3bf7826> [Accessed 19 February 2021].\r\n",
        "\r\n",
        "Pythonprogramming.net. 2021. Python Programming Tutorials. [online] Available at: <https://pythonprogramming.net/keras-tuner-optimizing-neural-network-tutorial/> [Accessed 17 February 2021].\r\n",
        "\r\n",
        "Sicara.ai. 2021. [online] Available at: <https://www.sicara.ai/blog/hyperparameter-tuning-keras-tuner> [Accessed 18 February 2021].\r\n",
        "\r\n",
        "Srivastava, Nitish & Hinton, Geoffrey & Krizhevsky, Alex & Sutskever, Ilya & Salakhutdinov, Ruslan. (2014). Dropout: A Simple Way to Prevent Neural Networks from Overfitting. Journal of Machine Learning Research. 15. 1929-1958."
      ]
    }
  ]
}